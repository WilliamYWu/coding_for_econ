{
 "cells": [
  {
   "cell_type": "markdown",
   "metadata": {},
   "source": [
    "# Intro to Programming - For Economics - But More Like Macroeconomics"
   ]
  },
  {
   "cell_type": "markdown",
   "metadata": {},
   "source": [
    "## 1. Back to the Basics : Datatypes"
   ]
  },
  {
   "cell_type": "markdown",
   "metadata": {},
   "source": [
    "### 1.1. Strings"
   ]
  },
  {
   "cell_type": "markdown",
   "metadata": {},
   "source": [
    "#### 1.1.1. F-Strings  ... and Integers and Floats"
   ]
  },
  {
   "cell_type": "code",
   "execution_count": null,
   "metadata": {
    "dotnet_interactive": {
     "language": "csharp"
    },
    "polyglot_notebook": {
     "kernelName": "csharp"
    }
   },
   "outputs": [
    {
     "name": "stdout",
     "output_type": "stream",
     "text": [
      "My roommate is globally ranked in the top 0.83243 of all 200000 Fortnite players.\n",
      "My roommate is globally ranked in the top 0.83243 of all 200000 Fortnite players.\n"
     ]
    }
   ],
   "source": [
    "# Normal string <- This is a comment.\n",
    "normal_string = \"My roommate is globally ranked in the top 0.83243 of all 200000 Fortnite players.\"\n",
    "\n",
    "# This is a float.\n",
    "decimal = 0.83243 \n",
    "# This is an integer(int).\n",
    "number = 200000\n",
    "\n",
    "f_string = f\"My roommate is globally ranked in the top {decimal} of all {number} Fortnite players.\"\n",
    "\n",
    "print(normal_string)\n",
    "print(f_string)"
   ]
  },
  {
   "cell_type": "markdown",
   "metadata": {},
   "source": [
    "#### 1.1.2. Find and Regular Expressions (RegEx) ... and Libraries/Packages"
   ]
  },
  {
   "cell_type": "code",
   "execution_count": 11,
   "metadata": {},
   "outputs": [
    {
     "name": "stdout",
     "output_type": "stream",
     "text": [
      "Here is the time index: 41\n"
     ]
    }
   ],
   "source": [
    "threat = \"If I hear any more screaming from you at 12:14 AM I am going to stop paying for wifi.\"\n",
    "\n",
    "# find : Finds the index of the first occurrence of the provided string.\n",
    "threat_index = threat.find(\"12:14 AM\")\n",
    "print(f\"Here is the time index: {threat_index}\")"
   ]
  },
  {
   "cell_type": "code",
   "execution_count": 12,
   "metadata": {},
   "outputs": [
    {
     "name": "stdout",
     "output_type": "stream",
     "text": [
      "Threat_1: If I hear any more screaming from you at 12:14 AM I am going to stop paying for wifi.\n",
      "Threat_2: If I hear any more screaming from you at anytime during the night I am going to stop paying for wifi.\n",
      "Threat_3: If I hear any more screaming from you at anytime at all I am going to stop paying for wifi.\n"
     ]
    }
   ],
   "source": [
    "# This is a library/package.\n",
    "import re\n",
    "\n",
    "\"\"\"\n",
    "This is a comment section. \n",
    "\n",
    "[0-1]?[0-9] -> Matches the hour for single or double digit hours\n",
    ":           -> It's a colon\n",
    "[0-5][0-9]  -> matches the minute\n",
    "(AM | PM)   -> Either AM or PM\n",
    "\\d{1,2}     -> Matches 1 or 2 digits\n",
    "\\d{2}       -> Matches 2 digits  \n",
    "\"\"\"\n",
    "\n",
    "threat_pattern_1 = r\"[0-1]?[0-9]:[0-5][0-9] (AM|PM)\"\n",
    "threat_pattern_2 = r\"\\d{1,2}:\\d{2} (AM|PM)\"\n",
    "\n",
    "# re.sub : Replace the regex pattern with whatever you want inside the provided string.\n",
    "threat_v2 = re.sub(threat_pattern_1, \"anytime during the night\", threat)\n",
    "threat_v3 = re.sub(threat_pattern_2, \"anytime at all\", threat)\n",
    "\n",
    "print(f\"Threat_1: {threat}\")\n",
    "print(f\"Threat_2: {threat_v2}\")\n",
    "print(f\"Threat_3: {threat_v3}\")"
   ]
  },
  {
   "cell_type": "markdown",
   "metadata": {},
   "source": [
    "### 1.2. Lists and Dictionaries"
   ]
  },
  {
   "cell_type": "markdown",
   "metadata": {},
   "source": [
    "#### 1.2.1. Appending and Iterating Lists"
   ]
  },
  {
   "cell_type": "code",
   "execution_count": 20,
   "metadata": {},
   "outputs": [
    {
     "name": "stdout",
     "output_type": "stream",
     "text": [
      "0: never does his dishes\n",
      "1: always leaves his clothes in the dryer\n",
      "2: and always takes the longest showers\n"
     ]
    }
   ],
   "source": [
    "some_complaints = [\n",
    "    \"never does his dishes\"\n",
    "    ]\n",
    "more_complaints = [\n",
    "    \"always leaves his clothes in the dryer\", \n",
    "    \"and always takes the longest showers\"\n",
    "    ]\n",
    "\n",
    "# You can add two string lists/arrays together\n",
    "complaints = some_complaints + more_complaints\n",
    "new_complaints_list = []\n",
    "\n",
    "# Enumerate lets you keep track of the elements and their corresponding index\n",
    "for index, complaint in enumerate(complaints):\n",
    "    new_complaints_list.append(complaint)\n",
    "    print(f\"{index}: {new_complaints_list[index]}\")"
   ]
  },
  {
   "cell_type": "markdown",
   "metadata": {},
   "source": [
    "#### 1.2.2. Dictionaries"
   ]
  },
  {
   "cell_type": "code",
   "execution_count": 22,
   "metadata": {},
   "outputs": [
    {
     "name": "stdout",
     "output_type": "stream",
     "text": [
      "Capital Share: 0.36\n",
      "Discount Rate: 0.95\n"
     ]
    }
   ],
   "source": [
    "# Example 1\n",
    "parameter_dict_1 = {\n",
    "    \"alpha\" : 1,\n",
    "    \"beta\" : 2.55,\n",
    "    \"gamma\" : 0.3,\n",
    "    \"discount_rate\" : 0.95,\n",
    "    \"disutility_labor\" : 3,\n",
    "    \"depreciation_rate\" : 0.025,\n",
    "    \"capital_share\" : 0.36,\n",
    "    \"technology_shock_persistence\" : 0.85,\n",
    "    \"technology_shock_var\" : 0.04**2\n",
    "}\n",
    "\n",
    "# If key does not exist you will get a KeyError exception\n",
    "print(f\"Capital Share: {parameter_dict_1['capital_share']}\")\n",
    "# If the key does not exist it will return \"None\"\n",
    "print(f\"Discount Rate: {parameter_dict_1.get('discount_rate')}\")"
   ]
  },
  {
   "cell_type": "code",
   "execution_count": 24,
   "metadata": {},
   "outputs": [
    {
     "name": "stdout",
     "output_type": "stream",
     "text": [
      "Capital Share: 0.36\n",
      "Discount Rate: 0.9\n"
     ]
    }
   ],
   "source": [
    "# Example 2\n",
    "parameter_dict_2 = {\n",
    "    \"baseline_calibration_1\" : {\n",
    "        \"alpha\" : [4,5,6],\n",
    "        \"beta\" : \"2.55\",\n",
    "        \"gamma\" : 0.3,\n",
    "        \"discount_rate\" : 0.95,\n",
    "        \"depreciation_rate\" : 0.025,\n",
    "        \"capital_share\" : 0.36,\n",
    "        \"technology_shock_persistence\" : 0.85,\n",
    "        \"technology_shock_var\" : 0.04**2\n",
    "    },\n",
    "    \"baseline_calibration_2\" : {\n",
    "        \"alpha\" : [1,2,3],\n",
    "        \"beta\" : \"2.05\",\n",
    "        \"gamma\" : 0.4,\n",
    "        \"discount_rate\" : 0.90,\n",
    "        \"depreciation_rate\" : 0.005,\n",
    "        \"capital_share\" : 0.50,\n",
    "        \"technology_shock_persistence\" : 0.20,\n",
    "        \"technology_shock_var\" : 0.04**2\n",
    "    }\n",
    "}\n",
    "\n",
    "print(f\"Capital Share: {parameter_dict_2['baseline_calibration_1']['capital_share']}\")\n",
    "print(f\"Discount Rate: {parameter_dict_2.get('baseline_calibration_2').get('discount_rate')}\")"
   ]
  },
  {
   "cell_type": "markdown",
   "metadata": {},
   "source": [
    "#### 1.2.3. Iterating Over Dictionaries"
   ]
  },
  {
   "cell_type": "code",
   "execution_count": 34,
   "metadata": {},
   "outputs": [
    {
     "name": "stdout",
     "output_type": "stream",
     "text": [
      "---------- FIRST LAYER ----------\n",
      "Key: baseline_calibration_1 ---------- Value: {'alpha': [4, 5, 6], 'beta': '2.55', 'gamma': 0.3, 'discount_rate': 0.95, 'disutility_labor': 3, 'depreciation_rate': 0.025, 'capital_share': 0.36, 'technology_shock_persistence': 0.85, 'technology_shock_var': 0.0016}\n",
      "Key: baseline_calibration_2 ---------- Value: {'alpha': [1, 2, 3], 'beta': '2.05', 'gamma': 0.4, 'discount_rate': 0.9, 'disutility_labor': 2, 'depreciation_rate': 0.005, 'capital_share': 0.5, 'technology_shock_persistence': 0.2, 'technology_shock_var': 0.0016}\n",
      "\n",
      "---------- SECOND LAYER ----------\n",
      "Key: alpha ---------- Value: [4, 5, 6]\n",
      "Key: beta ---------- Value: 2.55\n",
      "Key: gamma ---------- Value: 0.3\n",
      "Key: discount_rate ---------- Value: 0.95\n",
      "Key: disutility_labor ---------- Value: 3\n",
      "Key: depreciation_rate ---------- Value: 0.025\n",
      "Key: capital_share ---------- Value: 0.36\n",
      "Key: technology_shock_persistence ---------- Value: 0.85\n",
      "Key: technology_shock_var ---------- Value: 0.0016\n",
      "Key: alpha ---------- Value: [1, 2, 3]\n",
      "Key: beta ---------- Value: 2.05\n",
      "Key: gamma ---------- Value: 0.4\n",
      "Key: discount_rate ---------- Value: 0.9\n",
      "Key: disutility_labor ---------- Value: 2\n",
      "Key: depreciation_rate ---------- Value: 0.005\n",
      "Key: capital_share ---------- Value: 0.5\n",
      "Key: technology_shock_persistence ---------- Value: 0.2\n",
      "Key: technology_shock_var ---------- Value: 0.0016\n"
     ]
    }
   ],
   "source": [
    "print(\"---------- FIRST LAYER ----------\")\n",
    "for key, value in parameter_dict_2.items():\n",
    "    print(f\"Key: {key} ---------- Value: {value}\")\n",
    "\n",
    "\n",
    "print(\"\\n---------- SECOND LAYER ----------\")\n",
    "for key, value in parameter_dict_2.items():\n",
    "    for key, value in parameter_dict_2[key].items():\n",
    "        print(f\"Key: {key} ---------- Value: {value}\")"
   ]
  },
  {
   "cell_type": "markdown",
   "metadata": {},
   "source": [
    "## 2. Empirical Work"
   ]
  },
  {
   "cell_type": "code",
   "execution_count": 36,
   "metadata": {},
   "outputs": [
    {
     "name": "stdout",
     "output_type": "stream",
     "text": [
      "Note: you may need to restart the kernel to use updated packages.\n"
     ]
    },
    {
     "name": "stderr",
     "output_type": "stream",
     "text": [
      "\n",
      "[notice] A new release of pip is available: 23.1.2 -> 23.3.1\n",
      "[notice] To update, run: python.exe -m pip install --upgrade pip\n"
     ]
    },
    {
     "name": "stdout",
     "output_type": "stream",
     "text": [
      "Note: you may need to restart the kernel to use updated packages.\n"
     ]
    },
    {
     "name": "stderr",
     "output_type": "stream",
     "text": [
      "\n",
      "[notice] A new release of pip is available: 23.1.2 -> 23.3.1\n",
      "[notice] To update, run: python.exe -m pip install --upgrade pip\n"
     ]
    },
    {
     "name": "stdout",
     "output_type": "stream",
     "text": [
      "Note: you may need to restart the kernel to use updated packages.\n"
     ]
    },
    {
     "name": "stderr",
     "output_type": "stream",
     "text": [
      "\n",
      "[notice] A new release of pip is available: 23.1.2 -> 23.3.1\n",
      "[notice] To update, run: python.exe -m pip install --upgrade pip\n"
     ]
    },
    {
     "name": "stdout",
     "output_type": "stream",
     "text": [
      "Note: you may need to restart the kernel to use updated packages.\n"
     ]
    },
    {
     "name": "stderr",
     "output_type": "stream",
     "text": [
      "\n",
      "[notice] A new release of pip is available: 23.1.2 -> 23.3.1\n",
      "[notice] To update, run: python.exe -m pip install --upgrade pip\n"
     ]
    }
   ],
   "source": [
    "%pip install -q pandas\n",
    "%pip install -q numpy\n",
    "%pip install -q matplotlib\n",
    "%pip install -q pandas_datareader"
   ]
  },
  {
   "cell_type": "markdown",
   "metadata": {},
   "source": [
    "### 2.1. Working with Pandas"
   ]
  },
  {
   "cell_type": "markdown",
   "metadata": {},
   "source": [
    "Exercise. Give each command a try. You will be asked about what your command does based on the earlier order.\n",
    "\n",
    "1. df.shape\n",
    "\n",
    "2. df.columns\n",
    "\n",
    "3. df.index\n",
    "\n",
    "4. df.loc[]\n",
    "\n",
    "5. df.iloc[]\n",
    "\n",
    "6. df.head()\n",
    "\n",
    "7. df.tail()\n",
    "\n",
    "8. df.describe()"
   ]
  },
  {
   "cell_type": "code",
   "execution_count": 45,
   "metadata": {},
   "outputs": [],
   "source": [
    "import pandas as pd\n",
    "import numpy as np\n",
    "import matplotlib.pyplot as plt\n",
    "from pandas_datareader.data import DataReader\n",
    "\n",
    "start_date = \"1984-01\"  \n",
    "end_date = \"2023-01\"\n",
    "\n",
    "labor = DataReader(\"HOANBS\", \"fred\", start=start_date, end=end_date).resample(\"QS\").first()\n",
    "cons = DataReader(\"PCECC96\", \"fred\", start=start_date, end=end_date).resample(\"QS\").first()\n",
    "inv = DataReader(\"GPDIC1\", \"fred\", start=start_date, end=end_date).resample(\"QS\").first()\n",
    "pop = DataReader(\"CNP16OV\", \"fred\", start=start_date, end=end_date).resample(\"QS\").mean() \n",
    "recessions = DataReader(\"USRECQ\", \"fred\", start=start_date, end=end_date).resample(\"QS\").last()[\"USRECQ\"].iloc[1:]\n",
    "\n",
    "df = pd.concat([labor, cons, inv, pop, recessions], axis=1)"
   ]
  },
  {
   "cell_type": "code",
   "execution_count": null,
   "metadata": {},
   "outputs": [],
   "source": [
    "df.merge"
   ]
  },
  {
   "cell_type": "markdown",
   "metadata": {},
   "source": [
    "## 3. Functions and Classes"
   ]
  },
  {
   "cell_type": "markdown",
   "metadata": {},
   "source": [
    "### 3.1 Functions"
   ]
  },
  {
   "cell_type": "markdown",
   "metadata": {},
   "source": [
    "Exercise 2. Using a function replicate the equation shown. "
   ]
  },
  {
   "cell_type": "code",
   "execution_count": null,
   "metadata": {},
   "outputs": [],
   "source": [
    "def cobb_douglas_production_function():\n",
    "    return "
   ]
  },
  {
   "cell_type": "code",
   "execution_count": 44,
   "metadata": {},
   "outputs": [
    {
     "data": {
      "image/png": "[encoded data removed]",
      "text/plain": [
       "<Figure size 1000x500 with 1 Axes>"
      ]
     },
     "metadata": {},
     "output_type": "display_data"
    }
   ],
   "source": [
    "# Parameters\n",
    "alph = 0.5\n",
    "gam = 0.5\n",
    "delt = 0.02\n",
    "bet = 0.05\n",
    "aa = 0.5\n",
    "\n",
    "# Initial values\n",
    "x = np.ones(200)\n",
    "k = np.empty(200)\n",
    "c = np.empty(200)\n",
    "\n",
    "# Steady state\n",
    "k[0] = ((delt + bet) / (1.0 * aa * alph))**(1 / (alph - 1))\n",
    "c[0] = aa * k[0]**alph - delt * k[0]\n",
    "\n",
    "# Simulate the model\n",
    "for t in range(1, 200):\n",
    "    x[t] = 1.2  # Positive technological shock in period 1\n",
    "    k[t] = (aa * x[t] * k[t - 1]**alph + (1 - delt) * k[t - 1]) / (1 + bet)\n",
    "    c[t] = aa * k[t]**alph - delt * k[t]\n",
    "\n",
    "# Plot the results\n",
    "plt.figure(figsize=(10, 5))\n",
    "plt.plot(range(200), c, label='Consumption')\n",
    "plt.plot(range(200), k, label='Capital')\n",
    "plt.xlabel('Time Period')\n",
    "plt.ylabel('Value')\n",
    "plt.legend()\n",
    "plt.title('Deterministic RBC Model Simulation')\n",
    "plt.show()\n"
   ]
  },
  {
   "cell_type": "markdown",
   "metadata": {},
   "source": [
    "<div class=\"tabs\">\n",
    "  <input type=\"radio\" name=\"tabs\" id=\"tab1\" checked>\n",
    "  <label for=\"tab1\">Show Date</label>\n",
    "  <input type=\"radio\" name=\"tabs\" id=\"tab2\">\n",
    "  <label for=\"tab2\">Import Pandas</label>\n",
    "  <div id=\"content1\">\n",
    "    <p>Today's date is: <span id=\"date\"></span></p>\n",
    "  </div>\n",
    "  <div class=\"divider\"></div>\n",
    "  <div id=\"content2\">\n",
    "    <pre><code>import pandas as pd</code></pre>\n",
    "  </div>\n",
    "</div>\n",
    "\n",
    "<style>\n",
    ":root {\n",
    "  --light-bg: #eee;\n",
    "  --dark-bg: #333;\n",
    "  --light-text: #000;\n",
    "  --dark-text: #fff;\n",
    "}\n",
    "\n",
    "body[data-theme='light'] {a\n",
    "  --bg: var(--light-bg);\n",
    "  --text: var(--light-text);\n",
    "}\n",
    "\n",
    "body[data-theme='dark'] {\n",
    "  --bg: var(--dark-bg);\n",
    "  --text: var(--dark-text);\n",
    "}\n",
    "\n",
    ".tabs {\n",
    "  position: relative;\n",
    "  margin: 15px 0;\n",
    "}\n",
    "\n",
    "input[type=\"radio\"] {\n",
    "  position: absolute;\n",
    "  top: -9999em;\n",
    "  left: -9999em;\n",
    "}\n",
    "\n",
    "label {\n",
    "  display: inline-block;\n",
    "  padding: 5px 10px;\n",
    "  cursor: pointer;\n",
    "  border-right: 1px solid #ccc; /* Add a right border to create dividers */\n",
    "}\n",
    "\n",
    "label:hover {\n",
    "  background-color: #eee;\n",
    "}\n",
    "\n",
    ".divider {\n",
    "  border-right: 1px solid #ccc; /* Add a right border for the divider */\n",
    "  height: 100%;\n",
    "}\n",
    "\n",
    "#content1, #content2 {\n",
    "  display: none;\n",
    "  padding: 10px;\n",
    "}\n",
    "\n",
    "#tab1:checked ~ #content1, #tab2:checked ~ #content2 {\n",
    "  display: block;\n",
    "}\n",
    "</style>\n",
    "\n",
    "<script>\n",
    "  // JavaScript to update the date\n",
    "  function updateDate() {\n",
    "    const dateSpan = document.getElementById(\"date\");\n",
    "    const currentDate = new Date().toLocaleDateString();\n",
    "    dateSpan.textContent = currentDate;\n",
    "  }\n",
    "  \n",
    "  // Initially update the date\n",
    "  updateDate();\n",
    "</script>\n"
   ]
  }
 ],
 "metadata": {
  "kernelspec": {
   "display_name": "Python 3",
   "language": "python",
   "name": "python3"
  },
  "language_info": {
   "codemirror_mode": {
    "name": "ipython",
    "version": 3
   },
   "file_extension": ".py",
   "mimetype": "text/x-python",
   "name": "python",
   "nbconvert_exporter": "python",
   "pygments_lexer": "ipython3",
   "version": "3.10.10"
  },
  "polyglot_notebook": {
   "kernelInfo": {
    "defaultKernelName": "csharp",
    "items": [
     {
      "aliases": [],
      "name": "csharp"
     }
    ]
   }
  }
 },
 "nbformat": 4,
 "nbformat_minor": 2
}
